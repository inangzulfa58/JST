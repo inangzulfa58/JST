{
 "cells": [
  {
   "cell_type": "code",
   "execution_count": 23,
   "id": "1154e036",
   "metadata": {},
   "outputs": [],
   "source": [
    "from PIL import Image"
   ]
  },
  {
   "cell_type": "code",
   "execution_count": 24,
   "id": "e6b4e98f",
   "metadata": {},
   "outputs": [],
   "source": [
    "image = Image.open('C:\\\\Users\\\\inang\\\\notebook\\\\JST_INFORMATIKA6\\\\image\\\\netral.jpeg')"
   ]
  },
  {
   "cell_type": "code",
   "execution_count": 25,
   "id": "b6373ba7",
   "metadata": {},
   "outputs": [],
   "source": [
    "new_width = 800\n",
    "new_height = 600"
   ]
  },
  {
   "cell_type": "code",
   "execution_count": 26,
   "id": "99cb5498",
   "metadata": {},
   "outputs": [],
   "source": [
    "resized_image = image.resize((new_width, new_height))"
   ]
  },
  {
   "cell_type": "code",
   "execution_count": 27,
   "id": "19db85bd",
   "metadata": {},
   "outputs": [],
   "source": [
    "resized_image.save('C:\\\\Users\\\\inang\\\\notebook\\\\JST_INFORMATIKA6\\\\save\\\\resize.jpeg')"
   ]
  },
  {
   "cell_type": "code",
   "execution_count": null,
   "id": "baf9ef12",
   "metadata": {},
   "outputs": [],
   "source": []
  }
 ],
 "metadata": {
  "kernelspec": {
   "display_name": "Python 3 (ipykernel)",
   "language": "python",
   "name": "python3"
  },
  "language_info": {
   "codemirror_mode": {
    "name": "ipython",
    "version": 3
   },
   "file_extension": ".py",
   "mimetype": "text/x-python",
   "name": "python",
   "nbconvert_exporter": "python",
   "pygments_lexer": "ipython3",
   "version": "3.9.12"
  }
 },
 "nbformat": 4,
 "nbformat_minor": 5
}
